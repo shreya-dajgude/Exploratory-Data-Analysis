{
 "cells": [
  {
   "cell_type": "markdown",
   "id": "0362a40c",
   "metadata": {},
   "source": [
    "### Data Preparation and Cleaning"
   ]
  },
  {
   "cell_type": "code",
   "execution_count": 1,
   "id": "29f76437",
   "metadata": {},
   "outputs": [],
   "source": [
    "import pandas as pd\n",
    "import numpy as np\n",
    "import matplotlib.pyplot as plt\n",
    "import seaborn as sns"
   ]
  },
  {
   "cell_type": "code",
   "execution_count": 2,
   "id": "df63b0dd",
   "metadata": {},
   "outputs": [
    {
     "data": {
      "text/html": [
       "<div>\n",
       "<style scoped>\n",
       "    .dataframe tbody tr th:only-of-type {\n",
       "        vertical-align: middle;\n",
       "    }\n",
       "\n",
       "    .dataframe tbody tr th {\n",
       "        vertical-align: top;\n",
       "    }\n",
       "\n",
       "    .dataframe thead th {\n",
       "        text-align: right;\n",
       "    }\n",
       "</style>\n",
       "<table border=\"1\" class=\"dataframe\">\n",
       "  <thead>\n",
       "    <tr style=\"text-align: right;\">\n",
       "      <th></th>\n",
       "      <th>ID</th>\n",
       "      <th>Severity</th>\n",
       "      <th>Start_Time</th>\n",
       "      <th>End_Time</th>\n",
       "      <th>Start_Lat</th>\n",
       "      <th>Start_Lng</th>\n",
       "      <th>End_Lat</th>\n",
       "      <th>End_Lng</th>\n",
       "      <th>Distance(mi)</th>\n",
       "      <th>Description</th>\n",
       "      <th>...</th>\n",
       "      <th>Roundabout</th>\n",
       "      <th>Station</th>\n",
       "      <th>Stop</th>\n",
       "      <th>Traffic_Calming</th>\n",
       "      <th>Traffic_Signal</th>\n",
       "      <th>Turning_Loop</th>\n",
       "      <th>Sunrise_Sunset</th>\n",
       "      <th>Civil_Twilight</th>\n",
       "      <th>Nautical_Twilight</th>\n",
       "      <th>Astronomical_Twilight</th>\n",
       "    </tr>\n",
       "  </thead>\n",
       "  <tbody>\n",
       "    <tr>\n",
       "      <th>0</th>\n",
       "      <td>A-1</td>\n",
       "      <td>3</td>\n",
       "      <td>2016-02-08 00:37:08</td>\n",
       "      <td>2016-02-08 06:37:08</td>\n",
       "      <td>40.108910</td>\n",
       "      <td>-83.092860</td>\n",
       "      <td>40.112060</td>\n",
       "      <td>-83.031870</td>\n",
       "      <td>3.230</td>\n",
       "      <td>Between Sawmill Rd/Exit 20 and OH-315/Olentang...</td>\n",
       "      <td>...</td>\n",
       "      <td>False</td>\n",
       "      <td>False</td>\n",
       "      <td>False</td>\n",
       "      <td>False</td>\n",
       "      <td>False</td>\n",
       "      <td>False</td>\n",
       "      <td>Night</td>\n",
       "      <td>Night</td>\n",
       "      <td>Night</td>\n",
       "      <td>Night</td>\n",
       "    </tr>\n",
       "    <tr>\n",
       "      <th>1</th>\n",
       "      <td>A-2</td>\n",
       "      <td>2</td>\n",
       "      <td>2016-02-08 05:56:20</td>\n",
       "      <td>2016-02-08 11:56:20</td>\n",
       "      <td>39.865420</td>\n",
       "      <td>-84.062800</td>\n",
       "      <td>39.865010</td>\n",
       "      <td>-84.048730</td>\n",
       "      <td>0.747</td>\n",
       "      <td>At OH-4/OH-235/Exit 41 - Accident.</td>\n",
       "      <td>...</td>\n",
       "      <td>False</td>\n",
       "      <td>False</td>\n",
       "      <td>False</td>\n",
       "      <td>False</td>\n",
       "      <td>False</td>\n",
       "      <td>False</td>\n",
       "      <td>Night</td>\n",
       "      <td>Night</td>\n",
       "      <td>Night</td>\n",
       "      <td>Night</td>\n",
       "    </tr>\n",
       "    <tr>\n",
       "      <th>2</th>\n",
       "      <td>A-3</td>\n",
       "      <td>2</td>\n",
       "      <td>2016-02-08 06:15:39</td>\n",
       "      <td>2016-02-08 12:15:39</td>\n",
       "      <td>39.102660</td>\n",
       "      <td>-84.524680</td>\n",
       "      <td>39.102090</td>\n",
       "      <td>-84.523960</td>\n",
       "      <td>0.055</td>\n",
       "      <td>At I-71/US-50/Exit 1 - Accident.</td>\n",
       "      <td>...</td>\n",
       "      <td>False</td>\n",
       "      <td>False</td>\n",
       "      <td>False</td>\n",
       "      <td>False</td>\n",
       "      <td>False</td>\n",
       "      <td>False</td>\n",
       "      <td>Night</td>\n",
       "      <td>Night</td>\n",
       "      <td>Night</td>\n",
       "      <td>Day</td>\n",
       "    </tr>\n",
       "    <tr>\n",
       "      <th>3</th>\n",
       "      <td>A-4</td>\n",
       "      <td>2</td>\n",
       "      <td>2016-02-08 06:51:45</td>\n",
       "      <td>2016-02-08 12:51:45</td>\n",
       "      <td>41.062130</td>\n",
       "      <td>-81.537840</td>\n",
       "      <td>41.062170</td>\n",
       "      <td>-81.535470</td>\n",
       "      <td>0.123</td>\n",
       "      <td>At Dart Ave/Exit 21 - Accident.</td>\n",
       "      <td>...</td>\n",
       "      <td>False</td>\n",
       "      <td>False</td>\n",
       "      <td>False</td>\n",
       "      <td>False</td>\n",
       "      <td>False</td>\n",
       "      <td>False</td>\n",
       "      <td>Night</td>\n",
       "      <td>Night</td>\n",
       "      <td>Day</td>\n",
       "      <td>Day</td>\n",
       "    </tr>\n",
       "    <tr>\n",
       "      <th>4</th>\n",
       "      <td>A-5</td>\n",
       "      <td>3</td>\n",
       "      <td>2016-02-08 07:53:43</td>\n",
       "      <td>2016-02-08 13:53:43</td>\n",
       "      <td>39.172393</td>\n",
       "      <td>-84.492792</td>\n",
       "      <td>39.170476</td>\n",
       "      <td>-84.501798</td>\n",
       "      <td>0.500</td>\n",
       "      <td>At Mitchell Ave/Exit 6 - Accident.</td>\n",
       "      <td>...</td>\n",
       "      <td>False</td>\n",
       "      <td>False</td>\n",
       "      <td>False</td>\n",
       "      <td>False</td>\n",
       "      <td>False</td>\n",
       "      <td>False</td>\n",
       "      <td>Day</td>\n",
       "      <td>Day</td>\n",
       "      <td>Day</td>\n",
       "      <td>Day</td>\n",
       "    </tr>\n",
       "  </tbody>\n",
       "</table>\n",
       "<p>5 rows × 47 columns</p>\n",
       "</div>"
      ],
      "text/plain": [
       "    ID  Severity           Start_Time             End_Time  Start_Lat  \\\n",
       "0  A-1         3  2016-02-08 00:37:08  2016-02-08 06:37:08  40.108910   \n",
       "1  A-2         2  2016-02-08 05:56:20  2016-02-08 11:56:20  39.865420   \n",
       "2  A-3         2  2016-02-08 06:15:39  2016-02-08 12:15:39  39.102660   \n",
       "3  A-4         2  2016-02-08 06:51:45  2016-02-08 12:51:45  41.062130   \n",
       "4  A-5         3  2016-02-08 07:53:43  2016-02-08 13:53:43  39.172393   \n",
       "\n",
       "   Start_Lng    End_Lat    End_Lng  Distance(mi)  \\\n",
       "0 -83.092860  40.112060 -83.031870         3.230   \n",
       "1 -84.062800  39.865010 -84.048730         0.747   \n",
       "2 -84.524680  39.102090 -84.523960         0.055   \n",
       "3 -81.537840  41.062170 -81.535470         0.123   \n",
       "4 -84.492792  39.170476 -84.501798         0.500   \n",
       "\n",
       "                                         Description  ...  Roundabout Station  \\\n",
       "0  Between Sawmill Rd/Exit 20 and OH-315/Olentang...  ...       False   False   \n",
       "1                 At OH-4/OH-235/Exit 41 - Accident.  ...       False   False   \n",
       "2                   At I-71/US-50/Exit 1 - Accident.  ...       False   False   \n",
       "3                    At Dart Ave/Exit 21 - Accident.  ...       False   False   \n",
       "4                 At Mitchell Ave/Exit 6 - Accident.  ...       False   False   \n",
       "\n",
       "    Stop Traffic_Calming Traffic_Signal Turning_Loop Sunrise_Sunset  \\\n",
       "0  False           False          False        False          Night   \n",
       "1  False           False          False        False          Night   \n",
       "2  False           False          False        False          Night   \n",
       "3  False           False          False        False          Night   \n",
       "4  False           False          False        False            Day   \n",
       "\n",
       "  Civil_Twilight Nautical_Twilight Astronomical_Twilight  \n",
       "0          Night             Night                 Night  \n",
       "1          Night             Night                 Night  \n",
       "2          Night             Night                   Day  \n",
       "3          Night               Day                   Day  \n",
       "4            Day               Day                   Day  \n",
       "\n",
       "[5 rows x 47 columns]"
      ]
     },
     "execution_count": 2,
     "metadata": {},
     "output_type": "execute_result"
    }
   ],
   "source": [
    "df = pd.read_csv(\"US_Accidents.csv\")\n",
    "df.head()"
   ]
  },
  {
   "cell_type": "code",
   "execution_count": 3,
   "id": "efa22344",
   "metadata": {},
   "outputs": [
    {
     "data": {
      "text/plain": [
       "(2845342, 47)"
      ]
     },
     "execution_count": 3,
     "metadata": {},
     "output_type": "execute_result"
    }
   ],
   "source": [
    "df.shape"
   ]
  },
  {
   "cell_type": "code",
   "execution_count": 4,
   "id": "962f5ae0",
   "metadata": {},
   "outputs": [
    {
     "data": {
      "text/plain": [
       "Index(['ID', 'Severity', 'Start_Time', 'End_Time', 'Start_Lat', 'Start_Lng',\n",
       "       'End_Lat', 'End_Lng', 'Distance(mi)', 'Description', 'Number', 'Street',\n",
       "       'Side', 'City', 'County', 'State', 'Zipcode', 'Country', 'Timezone',\n",
       "       'Airport_Code', 'Weather_Timestamp', 'Temperature(F)', 'Wind_Chill(F)',\n",
       "       'Humidity(%)', 'Pressure(in)', 'Visibility(mi)', 'Wind_Direction',\n",
       "       'Wind_Speed(mph)', 'Precipitation(in)', 'Weather_Condition', 'Amenity',\n",
       "       'Bump', 'Crossing', 'Give_Way', 'Junction', 'No_Exit', 'Railway',\n",
       "       'Roundabout', 'Station', 'Stop', 'Traffic_Calming', 'Traffic_Signal',\n",
       "       'Turning_Loop', 'Sunrise_Sunset', 'Civil_Twilight', 'Nautical_Twilight',\n",
       "       'Astronomical_Twilight'],\n",
       "      dtype='object')"
      ]
     },
     "execution_count": 4,
     "metadata": {},
     "output_type": "execute_result"
    }
   ],
   "source": [
    "df.columns"
   ]
  },
  {
   "cell_type": "code",
   "execution_count": 5,
   "id": "84c10b4d",
   "metadata": {},
   "outputs": [
    {
     "data": {
      "text/plain": [
       "47"
      ]
     },
     "execution_count": 5,
     "metadata": {},
     "output_type": "execute_result"
    }
   ],
   "source": [
    "len(df.columns)"
   ]
  },
  {
   "cell_type": "code",
   "execution_count": 6,
   "id": "cd8fca11",
   "metadata": {},
   "outputs": [
    {
     "data": {
      "text/plain": [
       "2845342"
      ]
     },
     "execution_count": 6,
     "metadata": {},
     "output_type": "execute_result"
    }
   ],
   "source": [
    "len(df)"
   ]
  },
  {
   "cell_type": "code",
   "execution_count": 7,
   "id": "7e15a9ca",
   "metadata": {},
   "outputs": [
    {
     "name": "stdout",
     "output_type": "stream",
     "text": [
      "<class 'pandas.core.frame.DataFrame'>\n",
      "RangeIndex: 2845342 entries, 0 to 2845341\n",
      "Data columns (total 47 columns):\n",
      " #   Column                 Dtype  \n",
      "---  ------                 -----  \n",
      " 0   ID                     object \n",
      " 1   Severity               int64  \n",
      " 2   Start_Time             object \n",
      " 3   End_Time               object \n",
      " 4   Start_Lat              float64\n",
      " 5   Start_Lng              float64\n",
      " 6   End_Lat                float64\n",
      " 7   End_Lng                float64\n",
      " 8   Distance(mi)           float64\n",
      " 9   Description            object \n",
      " 10  Number                 float64\n",
      " 11  Street                 object \n",
      " 12  Side                   object \n",
      " 13  City                   object \n",
      " 14  County                 object \n",
      " 15  State                  object \n",
      " 16  Zipcode                object \n",
      " 17  Country                object \n",
      " 18  Timezone               object \n",
      " 19  Airport_Code           object \n",
      " 20  Weather_Timestamp      object \n",
      " 21  Temperature(F)         float64\n",
      " 22  Wind_Chill(F)          float64\n",
      " 23  Humidity(%)            float64\n",
      " 24  Pressure(in)           float64\n",
      " 25  Visibility(mi)         float64\n",
      " 26  Wind_Direction         object \n",
      " 27  Wind_Speed(mph)        float64\n",
      " 28  Precipitation(in)      float64\n",
      " 29  Weather_Condition      object \n",
      " 30  Amenity                bool   \n",
      " 31  Bump                   bool   \n",
      " 32  Crossing               bool   \n",
      " 33  Give_Way               bool   \n",
      " 34  Junction               bool   \n",
      " 35  No_Exit                bool   \n",
      " 36  Railway                bool   \n",
      " 37  Roundabout             bool   \n",
      " 38  Station                bool   \n",
      " 39  Stop                   bool   \n",
      " 40  Traffic_Calming        bool   \n",
      " 41  Traffic_Signal         bool   \n",
      " 42  Turning_Loop           bool   \n",
      " 43  Sunrise_Sunset         object \n",
      " 44  Civil_Twilight         object \n",
      " 45  Nautical_Twilight      object \n",
      " 46  Astronomical_Twilight  object \n",
      "dtypes: bool(13), float64(13), int64(1), object(20)\n",
      "memory usage: 773.4+ MB\n"
     ]
    }
   ],
   "source": [
    "df.info()"
   ]
  },
  {
   "cell_type": "code",
   "execution_count": 8,
   "id": "250086b2",
   "metadata": {},
   "outputs": [
    {
     "data": {
      "text/html": [
       "<div>\n",
       "<style scoped>\n",
       "    .dataframe tbody tr th:only-of-type {\n",
       "        vertical-align: middle;\n",
       "    }\n",
       "\n",
       "    .dataframe tbody tr th {\n",
       "        vertical-align: top;\n",
       "    }\n",
       "\n",
       "    .dataframe thead th {\n",
       "        text-align: right;\n",
       "    }\n",
       "</style>\n",
       "<table border=\"1\" class=\"dataframe\">\n",
       "  <thead>\n",
       "    <tr style=\"text-align: right;\">\n",
       "      <th></th>\n",
       "      <th>Severity</th>\n",
       "      <th>Start_Lat</th>\n",
       "      <th>Start_Lng</th>\n",
       "      <th>End_Lat</th>\n",
       "      <th>End_Lng</th>\n",
       "      <th>Distance(mi)</th>\n",
       "      <th>Number</th>\n",
       "      <th>Temperature(F)</th>\n",
       "      <th>Wind_Chill(F)</th>\n",
       "      <th>Humidity(%)</th>\n",
       "      <th>Pressure(in)</th>\n",
       "      <th>Visibility(mi)</th>\n",
       "      <th>Wind_Speed(mph)</th>\n",
       "      <th>Precipitation(in)</th>\n",
       "    </tr>\n",
       "  </thead>\n",
       "  <tbody>\n",
       "    <tr>\n",
       "      <th>count</th>\n",
       "      <td>2.845342e+06</td>\n",
       "      <td>2.845342e+06</td>\n",
       "      <td>2.845342e+06</td>\n",
       "      <td>2.845342e+06</td>\n",
       "      <td>2.845342e+06</td>\n",
       "      <td>2.845342e+06</td>\n",
       "      <td>1.101431e+06</td>\n",
       "      <td>2.776068e+06</td>\n",
       "      <td>2.375699e+06</td>\n",
       "      <td>2.772250e+06</td>\n",
       "      <td>2.786142e+06</td>\n",
       "      <td>2.774796e+06</td>\n",
       "      <td>2.687398e+06</td>\n",
       "      <td>2.295884e+06</td>\n",
       "    </tr>\n",
       "    <tr>\n",
       "      <th>mean</th>\n",
       "      <td>2.137572e+00</td>\n",
       "      <td>3.624520e+01</td>\n",
       "      <td>-9.711463e+01</td>\n",
       "      <td>3.624532e+01</td>\n",
       "      <td>-9.711439e+01</td>\n",
       "      <td>7.026779e-01</td>\n",
       "      <td>8.089408e+03</td>\n",
       "      <td>6.179356e+01</td>\n",
       "      <td>5.965823e+01</td>\n",
       "      <td>6.436545e+01</td>\n",
       "      <td>2.947234e+01</td>\n",
       "      <td>9.099391e+00</td>\n",
       "      <td>7.395044e+00</td>\n",
       "      <td>7.016940e-03</td>\n",
       "    </tr>\n",
       "    <tr>\n",
       "      <th>std</th>\n",
       "      <td>4.787216e-01</td>\n",
       "      <td>5.363797e+00</td>\n",
       "      <td>1.831782e+01</td>\n",
       "      <td>5.363873e+00</td>\n",
       "      <td>1.831763e+01</td>\n",
       "      <td>1.560361e+00</td>\n",
       "      <td>1.836009e+04</td>\n",
       "      <td>1.862263e+01</td>\n",
       "      <td>2.116097e+01</td>\n",
       "      <td>2.287457e+01</td>\n",
       "      <td>1.045286e+00</td>\n",
       "      <td>2.717546e+00</td>\n",
       "      <td>5.527454e+00</td>\n",
       "      <td>9.348831e-02</td>\n",
       "    </tr>\n",
       "    <tr>\n",
       "      <th>min</th>\n",
       "      <td>1.000000e+00</td>\n",
       "      <td>2.456603e+01</td>\n",
       "      <td>-1.245481e+02</td>\n",
       "      <td>2.456601e+01</td>\n",
       "      <td>-1.245457e+02</td>\n",
       "      <td>0.000000e+00</td>\n",
       "      <td>0.000000e+00</td>\n",
       "      <td>-8.900000e+01</td>\n",
       "      <td>-8.900000e+01</td>\n",
       "      <td>1.000000e+00</td>\n",
       "      <td>0.000000e+00</td>\n",
       "      <td>0.000000e+00</td>\n",
       "      <td>0.000000e+00</td>\n",
       "      <td>0.000000e+00</td>\n",
       "    </tr>\n",
       "    <tr>\n",
       "      <th>25%</th>\n",
       "      <td>2.000000e+00</td>\n",
       "      <td>3.344517e+01</td>\n",
       "      <td>-1.180331e+02</td>\n",
       "      <td>3.344628e+01</td>\n",
       "      <td>-1.180333e+02</td>\n",
       "      <td>5.200000e-02</td>\n",
       "      <td>1.270000e+03</td>\n",
       "      <td>5.000000e+01</td>\n",
       "      <td>4.600000e+01</td>\n",
       "      <td>4.800000e+01</td>\n",
       "      <td>2.931000e+01</td>\n",
       "      <td>1.000000e+01</td>\n",
       "      <td>3.500000e+00</td>\n",
       "      <td>0.000000e+00</td>\n",
       "    </tr>\n",
       "    <tr>\n",
       "      <th>50%</th>\n",
       "      <td>2.000000e+00</td>\n",
       "      <td>3.609861e+01</td>\n",
       "      <td>-9.241808e+01</td>\n",
       "      <td>3.609799e+01</td>\n",
       "      <td>-9.241772e+01</td>\n",
       "      <td>2.440000e-01</td>\n",
       "      <td>4.007000e+03</td>\n",
       "      <td>6.400000e+01</td>\n",
       "      <td>6.300000e+01</td>\n",
       "      <td>6.700000e+01</td>\n",
       "      <td>2.982000e+01</td>\n",
       "      <td>1.000000e+01</td>\n",
       "      <td>7.000000e+00</td>\n",
       "      <td>0.000000e+00</td>\n",
       "    </tr>\n",
       "    <tr>\n",
       "      <th>75%</th>\n",
       "      <td>2.000000e+00</td>\n",
       "      <td>4.016024e+01</td>\n",
       "      <td>-8.037243e+01</td>\n",
       "      <td>4.016105e+01</td>\n",
       "      <td>-8.037338e+01</td>\n",
       "      <td>7.640000e-01</td>\n",
       "      <td>9.567000e+03</td>\n",
       "      <td>7.600000e+01</td>\n",
       "      <td>7.600000e+01</td>\n",
       "      <td>8.300000e+01</td>\n",
       "      <td>3.001000e+01</td>\n",
       "      <td>1.000000e+01</td>\n",
       "      <td>1.000000e+01</td>\n",
       "      <td>0.000000e+00</td>\n",
       "    </tr>\n",
       "    <tr>\n",
       "      <th>max</th>\n",
       "      <td>4.000000e+00</td>\n",
       "      <td>4.900058e+01</td>\n",
       "      <td>-6.711317e+01</td>\n",
       "      <td>4.907500e+01</td>\n",
       "      <td>-6.710924e+01</td>\n",
       "      <td>1.551860e+02</td>\n",
       "      <td>9.999997e+06</td>\n",
       "      <td>1.960000e+02</td>\n",
       "      <td>1.960000e+02</td>\n",
       "      <td>1.000000e+02</td>\n",
       "      <td>5.890000e+01</td>\n",
       "      <td>1.400000e+02</td>\n",
       "      <td>1.087000e+03</td>\n",
       "      <td>2.400000e+01</td>\n",
       "    </tr>\n",
       "  </tbody>\n",
       "</table>\n",
       "</div>"
      ],
      "text/plain": [
       "           Severity     Start_Lat     Start_Lng       End_Lat       End_Lng  \\\n",
       "count  2.845342e+06  2.845342e+06  2.845342e+06  2.845342e+06  2.845342e+06   \n",
       "mean   2.137572e+00  3.624520e+01 -9.711463e+01  3.624532e+01 -9.711439e+01   \n",
       "std    4.787216e-01  5.363797e+00  1.831782e+01  5.363873e+00  1.831763e+01   \n",
       "min    1.000000e+00  2.456603e+01 -1.245481e+02  2.456601e+01 -1.245457e+02   \n",
       "25%    2.000000e+00  3.344517e+01 -1.180331e+02  3.344628e+01 -1.180333e+02   \n",
       "50%    2.000000e+00  3.609861e+01 -9.241808e+01  3.609799e+01 -9.241772e+01   \n",
       "75%    2.000000e+00  4.016024e+01 -8.037243e+01  4.016105e+01 -8.037338e+01   \n",
       "max    4.000000e+00  4.900058e+01 -6.711317e+01  4.907500e+01 -6.710924e+01   \n",
       "\n",
       "       Distance(mi)        Number  Temperature(F)  Wind_Chill(F)  \\\n",
       "count  2.845342e+06  1.101431e+06    2.776068e+06   2.375699e+06   \n",
       "mean   7.026779e-01  8.089408e+03    6.179356e+01   5.965823e+01   \n",
       "std    1.560361e+00  1.836009e+04    1.862263e+01   2.116097e+01   \n",
       "min    0.000000e+00  0.000000e+00   -8.900000e+01  -8.900000e+01   \n",
       "25%    5.200000e-02  1.270000e+03    5.000000e+01   4.600000e+01   \n",
       "50%    2.440000e-01  4.007000e+03    6.400000e+01   6.300000e+01   \n",
       "75%    7.640000e-01  9.567000e+03    7.600000e+01   7.600000e+01   \n",
       "max    1.551860e+02  9.999997e+06    1.960000e+02   1.960000e+02   \n",
       "\n",
       "        Humidity(%)  Pressure(in)  Visibility(mi)  Wind_Speed(mph)  \\\n",
       "count  2.772250e+06  2.786142e+06    2.774796e+06     2.687398e+06   \n",
       "mean   6.436545e+01  2.947234e+01    9.099391e+00     7.395044e+00   \n",
       "std    2.287457e+01  1.045286e+00    2.717546e+00     5.527454e+00   \n",
       "min    1.000000e+00  0.000000e+00    0.000000e+00     0.000000e+00   \n",
       "25%    4.800000e+01  2.931000e+01    1.000000e+01     3.500000e+00   \n",
       "50%    6.700000e+01  2.982000e+01    1.000000e+01     7.000000e+00   \n",
       "75%    8.300000e+01  3.001000e+01    1.000000e+01     1.000000e+01   \n",
       "max    1.000000e+02  5.890000e+01    1.400000e+02     1.087000e+03   \n",
       "\n",
       "       Precipitation(in)  \n",
       "count       2.295884e+06  \n",
       "mean        7.016940e-03  \n",
       "std         9.348831e-02  \n",
       "min         0.000000e+00  \n",
       "25%         0.000000e+00  \n",
       "50%         0.000000e+00  \n",
       "75%         0.000000e+00  \n",
       "max         2.400000e+01  "
      ]
     },
     "execution_count": 8,
     "metadata": {},
     "output_type": "execute_result"
    }
   ],
   "source": [
    "df.describe()"
   ]
  },
  {
   "cell_type": "code",
   "execution_count": 9,
   "id": "d74c008b",
   "metadata": {},
   "outputs": [],
   "source": [
    "numerics = ['int16', 'int32', 'int64', 'float16', 'float32', 'float64']\n",
    "numeric_df = df.select_dtypes(include = numerics)"
   ]
  },
  {
   "cell_type": "code",
   "execution_count": 10,
   "id": "12e1b9d0",
   "metadata": {},
   "outputs": [
    {
     "data": {
      "text/plain": [
       "14"
      ]
     },
     "execution_count": 10,
     "metadata": {},
     "output_type": "execute_result"
    }
   ],
   "source": [
    "len(numeric_df.columns)"
   ]
  },
  {
   "cell_type": "code",
   "execution_count": 11,
   "id": "74c57c1f",
   "metadata": {},
   "outputs": [
    {
     "data": {
      "text/plain": [
       "ID                             0\n",
       "Severity                       0\n",
       "Start_Time                     0\n",
       "End_Time                       0\n",
       "Start_Lat                      0\n",
       "Start_Lng                      0\n",
       "End_Lat                        0\n",
       "End_Lng                        0\n",
       "Distance(mi)                   0\n",
       "Description                    0\n",
       "Number                   1743911\n",
       "Street                         2\n",
       "Side                           0\n",
       "City                         137\n",
       "County                         0\n",
       "State                          0\n",
       "Zipcode                     1319\n",
       "Country                        0\n",
       "Timezone                    3659\n",
       "Airport_Code                9549\n",
       "Weather_Timestamp          50736\n",
       "Temperature(F)             69274\n",
       "Wind_Chill(F)             469643\n",
       "Humidity(%)                73092\n",
       "Pressure(in)               59200\n",
       "Visibility(mi)             70546\n",
       "Wind_Direction             73775\n",
       "Wind_Speed(mph)           157944\n",
       "Precipitation(in)         549458\n",
       "Weather_Condition          70636\n",
       "Amenity                        0\n",
       "Bump                           0\n",
       "Crossing                       0\n",
       "Give_Way                       0\n",
       "Junction                       0\n",
       "No_Exit                        0\n",
       "Railway                        0\n",
       "Roundabout                     0\n",
       "Station                        0\n",
       "Stop                           0\n",
       "Traffic_Calming                0\n",
       "Traffic_Signal                 0\n",
       "Turning_Loop                   0\n",
       "Sunrise_Sunset              2867\n",
       "Civil_Twilight              2867\n",
       "Nautical_Twilight           2867\n",
       "Astronomical_Twilight       2867\n",
       "dtype: int64"
      ]
     },
     "execution_count": 11,
     "metadata": {},
     "output_type": "execute_result"
    }
   ],
   "source": [
    "df.isnull().sum()"
   ]
  },
  {
   "cell_type": "code",
   "execution_count": 12,
   "id": "128a70cb",
   "metadata": {},
   "outputs": [
    {
     "data": {
      "text/plain": [
       "Number                   1743911\n",
       "Precipitation(in)         549458\n",
       "Wind_Chill(F)             469643\n",
       "Wind_Speed(mph)           157944\n",
       "Wind_Direction             73775\n",
       "Humidity(%)                73092\n",
       "Weather_Condition          70636\n",
       "Visibility(mi)             70546\n",
       "Temperature(F)             69274\n",
       "Pressure(in)               59200\n",
       "Weather_Timestamp          50736\n",
       "Airport_Code                9549\n",
       "Timezone                    3659\n",
       "Nautical_Twilight           2867\n",
       "Civil_Twilight              2867\n",
       "Sunrise_Sunset              2867\n",
       "Astronomical_Twilight       2867\n",
       "Zipcode                     1319\n",
       "City                         137\n",
       "Street                         2\n",
       "Country                        0\n",
       "Junction                       0\n",
       "Start_Time                     0\n",
       "End_Time                       0\n",
       "Start_Lat                      0\n",
       "Turning_Loop                   0\n",
       "Traffic_Signal                 0\n",
       "Traffic_Calming                0\n",
       "Stop                           0\n",
       "Station                        0\n",
       "Roundabout                     0\n",
       "Railway                        0\n",
       "No_Exit                        0\n",
       "Crossing                       0\n",
       "Give_Way                       0\n",
       "Bump                           0\n",
       "Amenity                        0\n",
       "Start_Lng                      0\n",
       "End_Lat                        0\n",
       "End_Lng                        0\n",
       "Distance(mi)                   0\n",
       "Description                    0\n",
       "Severity                       0\n",
       "Side                           0\n",
       "County                         0\n",
       "State                          0\n",
       "ID                             0\n",
       "dtype: int64"
      ]
     },
     "execution_count": 12,
     "metadata": {},
     "output_type": "execute_result"
    }
   ],
   "source": [
    "df.isnull().sum().sort_values(ascending = False)"
   ]
  },
  {
   "cell_type": "code",
   "execution_count": 13,
   "id": "3b6c6e6f",
   "metadata": {},
   "outputs": [
    {
     "data": {
      "text/plain": [
       "Number                   6.129003e-01\n",
       "Precipitation(in)        1.931079e-01\n",
       "Wind_Chill(F)            1.650568e-01\n",
       "Wind_Speed(mph)          5.550967e-02\n",
       "Wind_Direction           2.592834e-02\n",
       "Humidity(%)              2.568830e-02\n",
       "Weather_Condition        2.482514e-02\n",
       "Visibility(mi)           2.479350e-02\n",
       "Temperature(F)           2.434646e-02\n",
       "Pressure(in)             2.080593e-02\n",
       "Weather_Timestamp        1.783125e-02\n",
       "Airport_Code             3.356011e-03\n",
       "Timezone                 1.285961e-03\n",
       "Nautical_Twilight        1.007612e-03\n",
       "Civil_Twilight           1.007612e-03\n",
       "Sunrise_Sunset           1.007612e-03\n",
       "Astronomical_Twilight    1.007612e-03\n",
       "Zipcode                  4.635647e-04\n",
       "City                     4.814887e-05\n",
       "Street                   7.029032e-07\n",
       "Country                  0.000000e+00\n",
       "Junction                 0.000000e+00\n",
       "Start_Time               0.000000e+00\n",
       "End_Time                 0.000000e+00\n",
       "Start_Lat                0.000000e+00\n",
       "Turning_Loop             0.000000e+00\n",
       "Traffic_Signal           0.000000e+00\n",
       "Traffic_Calming          0.000000e+00\n",
       "Stop                     0.000000e+00\n",
       "Station                  0.000000e+00\n",
       "Roundabout               0.000000e+00\n",
       "Railway                  0.000000e+00\n",
       "No_Exit                  0.000000e+00\n",
       "Crossing                 0.000000e+00\n",
       "Give_Way                 0.000000e+00\n",
       "Bump                     0.000000e+00\n",
       "Amenity                  0.000000e+00\n",
       "Start_Lng                0.000000e+00\n",
       "End_Lat                  0.000000e+00\n",
       "End_Lng                  0.000000e+00\n",
       "Distance(mi)             0.000000e+00\n",
       "Description              0.000000e+00\n",
       "Severity                 0.000000e+00\n",
       "Side                     0.000000e+00\n",
       "County                   0.000000e+00\n",
       "State                    0.000000e+00\n",
       "ID                       0.000000e+00\n",
       "dtype: float64"
      ]
     },
     "execution_count": 13,
     "metadata": {},
     "output_type": "execute_result"
    }
   ],
   "source": [
    "missing_percentages = df.isnull().sum().sort_values(ascending = False) / len(df)\n",
    "missing_percentages"
   ]
  },
  {
   "cell_type": "code",
   "execution_count": 14,
   "id": "115affa9",
   "metadata": {},
   "outputs": [
    {
     "data": {
      "text/plain": [
       "pandas.core.series.Series"
      ]
     },
     "execution_count": 14,
     "metadata": {},
     "output_type": "execute_result"
    }
   ],
   "source": [
    "type(missing_percentages)"
   ]
  },
  {
   "cell_type": "code",
   "execution_count": 15,
   "id": "f26d48f6",
   "metadata": {},
   "outputs": [
    {
     "data": {
      "text/plain": [
       "Number                   6.129003e-01\n",
       "Precipitation(in)        1.931079e-01\n",
       "Wind_Chill(F)            1.650568e-01\n",
       "Wind_Speed(mph)          5.550967e-02\n",
       "Wind_Direction           2.592834e-02\n",
       "Humidity(%)              2.568830e-02\n",
       "Weather_Condition        2.482514e-02\n",
       "Visibility(mi)           2.479350e-02\n",
       "Temperature(F)           2.434646e-02\n",
       "Pressure(in)             2.080593e-02\n",
       "Weather_Timestamp        1.783125e-02\n",
       "Airport_Code             3.356011e-03\n",
       "Timezone                 1.285961e-03\n",
       "Nautical_Twilight        1.007612e-03\n",
       "Civil_Twilight           1.007612e-03\n",
       "Sunrise_Sunset           1.007612e-03\n",
       "Astronomical_Twilight    1.007612e-03\n",
       "Zipcode                  4.635647e-04\n",
       "City                     4.814887e-05\n",
       "Street                   7.029032e-07\n",
       "dtype: float64"
      ]
     },
     "execution_count": 15,
     "metadata": {},
     "output_type": "execute_result"
    }
   ],
   "source": [
    "missing_percentages[missing_percentages != 0]"
   ]
  },
  {
   "cell_type": "code",
   "execution_count": 16,
   "id": "798469cc",
   "metadata": {},
   "outputs": [
    {
     "data": {
      "text/plain": [
       "<AxesSubplot:>"
      ]
     },
     "execution_count": 16,
     "metadata": {},
     "output_type": "execute_result"
    },
    {
     "data": {
      "image/png": "[encoded data removed]",
      "text/plain": [
       "<Figure size 432x288 with 1 Axes>"
      ]
     },
     "metadata": {
      "needs_background": "light"
     },
     "output_type": "display_data"
    }
   ],
   "source": [
    "missing_percentages[missing_percentages != 0].plot(kind = 'barh')"
   ]
  },
  {
   "cell_type": "code",
   "execution_count": 17,
   "id": "54172454",
   "metadata": {},
   "outputs": [
    {
     "data": {
      "text/plain": [
       "Index(['ID', 'Severity', 'Start_Time', 'End_Time', 'Start_Lat', 'Start_Lng',\n",
       "       'End_Lat', 'End_Lng', 'Distance(mi)', 'Description', 'Number', 'Street',\n",
       "       'Side', 'City', 'County', 'State', 'Zipcode', 'Country', 'Timezone',\n",
       "       'Airport_Code', 'Weather_Timestamp', 'Temperature(F)', 'Wind_Chill(F)',\n",
       "       'Humidity(%)', 'Pressure(in)', 'Visibility(mi)', 'Wind_Direction',\n",
       "       'Wind_Speed(mph)', 'Precipitation(in)', 'Weather_Condition', 'Amenity',\n",
       "       'Bump', 'Crossing', 'Give_Way', 'Junction', 'No_Exit', 'Railway',\n",
       "       'Roundabout', 'Station', 'Stop', 'Traffic_Calming', 'Traffic_Signal',\n",
       "       'Turning_Loop', 'Sunrise_Sunset', 'Civil_Twilight', 'Nautical_Twilight',\n",
       "       'Astronomical_Twilight'],\n",
       "      dtype='object')"
      ]
     },
     "execution_count": 17,
     "metadata": {},
     "output_type": "execute_result"
    }
   ],
   "source": [
    "df.columns"
   ]
  },
  {
   "cell_type": "code",
   "execution_count": 18,
   "id": "dbfcd1d3",
   "metadata": {},
   "outputs": [],
   "source": [
    "# Source & TMC"
   ]
  },
  {
   "cell_type": "markdown",
   "id": "8afa2d65",
   "metadata": {},
   "source": [
    "### Exploratory Analysis and Visualization"
   ]
  },
  {
   "cell_type": "markdown",
   "id": "39c0e34a",
   "metadata": {},
   "source": [
    "### Columns to analyse:\n",
    "1. City\n",
    "2. Start Time\n",
    "3. Start Lat, Start Lng\n",
    "4. Temperature\n",
    "5. Weather Condition"
   ]
  },
  {
   "cell_type": "markdown",
   "id": "d6591573",
   "metadata": {},
   "source": [
    "### 1. City"
   ]
  },
  {
   "cell_type": "code",
   "execution_count": 19,
   "id": "bbd829b4",
   "metadata": {},
   "outputs": [
    {
     "data": {
      "text/plain": [
       "0               Dublin\n",
       "1               Dayton\n",
       "2           Cincinnati\n",
       "3                Akron\n",
       "4           Cincinnati\n",
       "              ...     \n",
       "2845337      Riverside\n",
       "2845338      San Diego\n",
       "2845339         Orange\n",
       "2845340    Culver City\n",
       "2845341       Highland\n",
       "Name: City, Length: 2845342, dtype: object"
      ]
     },
     "execution_count": 19,
     "metadata": {},
     "output_type": "execute_result"
    }
   ],
   "source": [
    "df.City"
   ]
  },
  {
   "cell_type": "code",
   "execution_count": 20,
   "id": "11aa56c9",
   "metadata": {},
   "outputs": [
    {
     "data": {
      "text/plain": [
       "array(['Dublin', 'Dayton', 'Cincinnati', ..., 'Clarksdale', 'Bridgeboro',\n",
       "       'American Fork-Pleasant Grove'], dtype=object)"
      ]
     },
     "execution_count": 20,
     "metadata": {},
     "output_type": "execute_result"
    }
   ],
   "source": [
    "cities = df.City.unique()\n",
    "cities"
   ]
  },
  {
   "cell_type": "code",
   "execution_count": 21,
   "id": "e56e1fdb",
   "metadata": {},
   "outputs": [
    {
     "data": {
      "text/plain": [
       "11682"
      ]
     },
     "execution_count": 21,
     "metadata": {},
     "output_type": "execute_result"
    }
   ],
   "source": [
    "len(cities)"
   ]
  },
  {
   "cell_type": "code",
   "execution_count": 22,
   "id": "311c2eb3",
   "metadata": {},
   "outputs": [
    {
     "data": {
      "text/plain": [
       "array(['Dublin', 'Dayton', 'Cincinnati', 'Akron', 'Williamsburg',\n",
       "       'Cleveland', 'Lima', 'Westerville', 'Jamestown', 'Freeport',\n",
       "       'Columbus', 'Toledo', 'Roanoke', 'Ft Mitchell', 'Edinburgh',\n",
       "       'Fairborn', 'Shelbyville', 'Greensburg', 'Saint Paul',\n",
       "       'Parkersburg', 'Indianapolis', 'Dundee', 'Jeffersonville',\n",
       "       'Pittsburgh', 'Lewis Center', 'Dunkirk', 'Redkey', 'Milton',\n",
       "       'Willshire', 'Straughn', 'Cambridge Springs', 'Fremont',\n",
       "       'Louisville', 'South Charleston', 'Edinboro', 'Buckhannon',\n",
       "       'Lockbourne', 'Painesville', 'Washington', 'Dunbar', 'Angola',\n",
       "       'Edon', 'Medina', 'De Mossville', 'New Albany', 'Charleston',\n",
       "       'Fort Wayne', 'Burnsville', 'Bedford', 'Clarksville', 'Lakewood',\n",
       "       'Richfield', 'Sewickley', 'Independence', 'Westlake', 'Erlanger',\n",
       "       'Grove City', 'Monroe', 'West Middlesex', 'Gaston', 'Economy',\n",
       "       'Fairmount', 'Hagerstown', 'Walton', 'Crittenden', 'Coraopolis',\n",
       "       'Holland', 'Greenfield', 'Anderson', 'Englewood', 'Knightstown',\n",
       "       'Bentleyville', 'Memphis', 'Henryville', 'Kendallville', 'Avilla',\n",
       "       'Ohio City', 'Van Wert', 'Rocky River', 'Sturgis', 'West Chester',\n",
       "       'Orient', 'Madison', 'Deputy', 'Keystone', 'Mercer', 'Bryant',\n",
       "       'Pennville', 'Kimbolton', 'Thornville', 'Wexford', 'Fishers',\n",
       "       'Noblesville', 'Macedonia', 'Youngstown', 'Fairdale', 'Sutton',\n",
       "       'Mount Sterling', 'Northwood', 'Huntington'], dtype=object)"
      ]
     },
     "execution_count": 22,
     "metadata": {},
     "output_type": "execute_result"
    }
   ],
   "source": [
    "cities[:100]"
   ]
  },
  {
   "cell_type": "code",
   "execution_count": 23,
   "id": "57c12b48",
   "metadata": {},
   "outputs": [
    {
     "data": {
      "text/plain": [
       "Miami                           106966\n",
       "Los Angeles                      68956\n",
       "Orlando                          54691\n",
       "Dallas                           41979\n",
       "Houston                          39448\n",
       "                                 ...  \n",
       "Ridgedale                            1\n",
       "Sekiu                                1\n",
       "Wooldridge                           1\n",
       "Bullock                              1\n",
       "American Fork-Pleasant Grove         1\n",
       "Name: City, Length: 11681, dtype: int64"
      ]
     },
     "execution_count": 23,
     "metadata": {},
     "output_type": "execute_result"
    }
   ],
   "source": [
    "cities_by_accident = df.City.value_counts()\n",
    "cities_by_accident"
   ]
  },
  {
   "cell_type": "code",
   "execution_count": 24,
   "id": "a57b4043",
   "metadata": {},
   "outputs": [
    {
     "data": {
      "text/plain": [
       "Miami          106966\n",
       "Los Angeles     68956\n",
       "Orlando         54691\n",
       "Dallas          41979\n",
       "Houston         39448\n",
       "Charlotte       33152\n",
       "Sacramento      32559\n",
       "San Diego       26627\n",
       "Raleigh         22840\n",
       "Minneapolis     22768\n",
       "Name: City, dtype: int64"
      ]
     },
     "execution_count": 24,
     "metadata": {},
     "output_type": "execute_result"
    }
   ],
   "source": [
    "cities_by_accident[:10]"
   ]
  },
  {
   "cell_type": "code",
   "execution_count": 25,
   "id": "e89af53b",
   "metadata": {},
   "outputs": [
    {
     "data": {
      "text/plain": [
       "False"
      ]
     },
     "execution_count": 25,
     "metadata": {},
     "output_type": "execute_result"
    }
   ],
   "source": [
    "'New York' in df.City"
   ]
  },
  {
   "cell_type": "code",
   "execution_count": 26,
   "id": "4111d511",
   "metadata": {},
   "outputs": [
    {
     "data": {
      "text/plain": [
       "False"
      ]
     },
     "execution_count": 26,
     "metadata": {},
     "output_type": "execute_result"
    }
   ],
   "source": [
    "'NY' in df.State"
   ]
  },
  {
   "cell_type": "code",
   "execution_count": 27,
   "id": "7f38ec30",
   "metadata": {},
   "outputs": [
    {
     "data": {
      "text/plain": [
       "<AxesSubplot:>"
      ]
     },
     "execution_count": 27,
     "metadata": {},
     "output_type": "execute_result"
    },
    {
     "data": {
      "image/png": "[encoded data removed]",
      "text/plain": [
       "<Figure size 432x288 with 1 Axes>"
      ]
     },
     "metadata": {
      "needs_background": "light"
     },
     "output_type": "display_data"
    }
   ],
   "source": [
    "cities_by_accident[:20].plot(kind = 'barh')"
   ]
  },
  {
   "cell_type": "code",
   "execution_count": 28,
   "id": "5dfa625d",
   "metadata": {},
   "outputs": [
    {
     "name": "stderr",
     "output_type": "stream",
     "text": [
      "C:\\Users\\HP\\anaconda3\\lib\\site-packages\\seaborn\\distributions.py:2619: FutureWarning: `distplot` is a deprecated function and will be removed in a future version. Please adapt your code to use either `displot` (a figure-level function with similar flexibility) or `histplot` (an axes-level function for histograms).\n",
      "  warnings.warn(msg, FutureWarning)\n"
     ]
    },
    {
     "data": {
      "text/plain": [
       "<AxesSubplot:xlabel='City', ylabel='Density'>"
      ]
     },
     "execution_count": 28,
     "metadata": {},
     "output_type": "execute_result"
    },
    {
     "data": {
      "image/png": "[encoded data removed]",
      "text/plain": [
       "<Figure size 432x288 with 1 Axes>"
      ]
     },
     "metadata": {},
     "output_type": "display_data"
    }
   ],
   "source": [
    "sns.set_style(\"darkgrid\")\n",
    "sns.distplot(cities_by_accident)"
   ]
  },
  {
   "cell_type": "code",
   "execution_count": 29,
   "id": "2dee2475",
   "metadata": {},
   "outputs": [
    {
     "data": {
      "text/plain": [
       "<AxesSubplot:xlabel='City', ylabel='Count'>"
      ]
     },
     "execution_count": 29,
     "metadata": {},
     "output_type": "execute_result"
    },
    {
     "data": {
      "image/png": "[encoded data removed]",
      "text/plain": [
       "<Figure size 432x288 with 1 Axes>"
      ]
     },
     "metadata": {},
     "output_type": "display_data"
    }
   ],
   "source": [
    "sns.histplot(cities_by_accident, log_scale = True)"
   ]
  },
  {
   "cell_type": "code",
   "execution_count": 30,
   "id": "a1c14c59",
   "metadata": {},
   "outputs": [],
   "source": [
    "high_accident_cities = cities_by_accident[cities_by_accident >= 1000]\n",
    "low_accident_cities = cities_by_accident[cities_by_accident < 1000]"
   ]
  },
  {
   "cell_type": "code",
   "execution_count": 31,
   "id": "f8c3292f",
   "metadata": {},
   "outputs": [
    {
     "data": {
      "text/plain": [
       "496"
      ]
     },
     "execution_count": 31,
     "metadata": {},
     "output_type": "execute_result"
    }
   ],
   "source": [
    "len(high_accident_cities)"
   ]
  },
  {
   "cell_type": "code",
   "execution_count": 32,
   "id": "0f3c0752",
   "metadata": {},
   "outputs": [
    {
     "data": {
      "text/plain": [
       "0.04245848313644924"
      ]
     },
     "execution_count": 32,
     "metadata": {},
     "output_type": "execute_result"
    }
   ],
   "source": [
    "len(high_accident_cities) / len(cities)"
   ]
  },
  {
   "cell_type": "code",
   "execution_count": 33,
   "id": "bd91e91f",
   "metadata": {},
   "outputs": [
    {
     "name": "stderr",
     "output_type": "stream",
     "text": [
      "C:\\Users\\HP\\anaconda3\\lib\\site-packages\\seaborn\\distributions.py:2619: FutureWarning: `distplot` is a deprecated function and will be removed in a future version. Please adapt your code to use either `displot` (a figure-level function with similar flexibility) or `histplot` (an axes-level function for histograms).\n",
      "  warnings.warn(msg, FutureWarning)\n"
     ]
    },
    {
     "data": {
      "text/plain": [
       "<AxesSubplot:xlabel='City', ylabel='Density'>"
      ]
     },
     "execution_count": 33,
     "metadata": {},
     "output_type": "execute_result"
    },
    {
     "data": {
      "image/png": "[encoded data removed]",
      "text/plain": [
       "<Figure size 432x288 with 1 Axes>"
      ]
     },
     "metadata": {},
     "output_type": "display_data"
    }
   ],
   "source": [
    "sns.distplot(high_accident_cities)"
   ]
  },
  {
   "cell_type": "code",
   "execution_count": 34,
   "id": "264a92c2",
   "metadata": {},
   "outputs": [
    {
     "name": "stderr",
     "output_type": "stream",
     "text": [
      "C:\\Users\\HP\\anaconda3\\lib\\site-packages\\seaborn\\distributions.py:2619: FutureWarning: `distplot` is a deprecated function and will be removed in a future version. Please adapt your code to use either `displot` (a figure-level function with similar flexibility) or `histplot` (an axes-level function for histograms).\n",
      "  warnings.warn(msg, FutureWarning)\n"
     ]
    },
    {
     "data": {
      "text/plain": [
       "<AxesSubplot:xlabel='City', ylabel='Density'>"
      ]
     },
     "execution_count": 34,
     "metadata": {},
     "output_type": "execute_result"
    },
    {
     "data": {
      "image/png": "[encoded data removed]",
      "text/plain": [
       "<Figure size 432x288 with 1 Axes>"
      ]
     },
     "metadata": {},
     "output_type": "display_data"
    }
   ],
   "source": [
    "sns.distplot(low_accident_cities)"
   ]
  },
  {
   "cell_type": "markdown",
   "id": "a6f97616",
   "metadata": {},
   "source": [
    "### 2. Start Time"
   ]
  },
  {
   "cell_type": "code",
   "execution_count": 36,
   "id": "a2ffb99c",
   "metadata": {},
   "outputs": [
    {
     "data": {
      "text/plain": [
       "0          2016-02-08 00:37:08\n",
       "1          2016-02-08 05:56:20\n",
       "2          2016-02-08 06:15:39\n",
       "3          2016-02-08 06:51:45\n",
       "4          2016-02-08 07:53:43\n",
       "                  ...         \n",
       "2845337    2019-08-23 18:03:25\n",
       "2845338    2019-08-23 19:11:30\n",
       "2845339    2019-08-23 19:00:21\n",
       "2845340    2019-08-23 19:00:21\n",
       "2845341    2019-08-23 18:52:06\n",
       "Name: Start_Time, Length: 2845342, dtype: object"
      ]
     },
     "execution_count": 36,
     "metadata": {},
     "output_type": "execute_result"
    }
   ],
   "source": [
    "df.Start_Time"
   ]
  },
  {
   "cell_type": "code",
   "execution_count": 37,
   "id": "ceaacc25",
   "metadata": {},
   "outputs": [
    {
     "data": {
      "text/plain": [
       "'2016-02-08 00:37:08'"
      ]
     },
     "execution_count": 37,
     "metadata": {},
     "output_type": "execute_result"
    }
   ],
   "source": [
    "df.Start_Time[0]"
   ]
  },
  {
   "cell_type": "code",
   "execution_count": 38,
   "id": "104767a6",
   "metadata": {},
   "outputs": [],
   "source": [
    "df.Start_Time = pd.to_datetime(df.Start_Time)"
   ]
  },
  {
   "cell_type": "code",
   "execution_count": 39,
   "id": "f8f10690",
   "metadata": {},
   "outputs": [
    {
     "data": {
      "text/plain": [
       "Timestamp('2016-02-08 00:37:08')"
      ]
     },
     "execution_count": 39,
     "metadata": {},
     "output_type": "execute_result"
    }
   ],
   "source": [
    "df.Start_Time[0]"
   ]
  },
  {
   "cell_type": "code",
   "execution_count": 40,
   "id": "0061ac78",
   "metadata": {},
   "outputs": [
    {
     "data": {
      "text/plain": [
       "0           0\n",
       "1           5\n",
       "2           6\n",
       "3           6\n",
       "4           7\n",
       "           ..\n",
       "2845337    18\n",
       "2845338    19\n",
       "2845339    19\n",
       "2845340    19\n",
       "2845341    18\n",
       "Name: Start_Time, Length: 2845342, dtype: int64"
      ]
     },
     "execution_count": 40,
     "metadata": {},
     "output_type": "execute_result"
    }
   ],
   "source": [
    "df.Start_Time.dt.hour"
   ]
  },
  {
   "cell_type": "code",
   "execution_count": 42,
   "id": "342d5ab8",
   "metadata": {},
   "outputs": [
    {
     "data": {
      "text/plain": [
       "<AxesSubplot:xlabel='Start_Time', ylabel='Count'>"
      ]
     },
     "execution_count": 42,
     "metadata": {},
     "output_type": "execute_result"
    },
    {
     "data": {
      "image/png": "[encoded data removed]",
      "text/plain": [
       "<Figure size 432x288 with 1 Axes>"
      ]
     },
     "metadata": {},
     "output_type": "display_data"
    }
   ],
   "source": [
    "sns.histplot(df.Start_Time.dt.hour, bins = 24)"
   ]
  },
  {
   "cell_type": "code",
   "execution_count": 43,
   "id": "3af52b2b",
   "metadata": {},
   "outputs": [
    {
     "name": "stderr",
     "output_type": "stream",
     "text": [
      "C:\\Users\\HP\\anaconda3\\lib\\site-packages\\seaborn\\distributions.py:2619: FutureWarning: `distplot` is a deprecated function and will be removed in a future version. Please adapt your code to use either `displot` (a figure-level function with similar flexibility) or `histplot` (an axes-level function for histograms).\n",
      "  warnings.warn(msg, FutureWarning)\n"
     ]
    },
    {
     "data": {
      "text/plain": [
       "<AxesSubplot:xlabel='Start_Time'>"
      ]
     },
     "execution_count": 43,
     "metadata": {},
     "output_type": "execute_result"
    },
    {
     "data": {
      "image/png": "[encoded data removed]",
      "text/plain": [
       "<Figure size 432x288 with 1 Axes>"
      ]
     },
     "metadata": {},
     "output_type": "display_data"
    }
   ],
   "source": [
    "sns.distplot(df.Start_Time.dt.dayofweek, bins = 7, kde = False, norm_hist = True)"
   ]
  },
  {
   "cell_type": "code",
   "execution_count": 44,
   "id": "1fbdadf7",
   "metadata": {},
   "outputs": [
    {
     "data": {
      "text/plain": [
       "<AxesSubplot:xlabel='Start_Time'>"
      ]
     },
     "execution_count": 44,
     "metadata": {},
     "output_type": "execute_result"
    },
    {
     "data": {
      "image/png": "[encoded data removed]",
      "text/plain": [
       "<Figure size 432x288 with 1 Axes>"
      ]
     },
     "metadata": {},
     "output_type": "display_data"
    }
   ],
   "source": [
    "sunday_start_time = df.Start_Time[df.Start_Time.dt.dayofweek == 6]\n",
    "sns.distplot(sunday_start_time.dt.hour, bins = 24, kde = False, norm_hist = True)"
   ]
  },
  {
   "cell_type": "code",
   "execution_count": 45,
   "id": "c951bc12",
   "metadata": {},
   "outputs": [
    {
     "data": {
      "text/plain": [
       "<AxesSubplot:xlabel='Start_Time'>"
      ]
     },
     "execution_count": 45,
     "metadata": {},
     "output_type": "execute_result"
    },
    {
     "data": {
      "image/png": "[encoded data removed]",
      "text/plain": [
       "<Figure size 432x288 with 1 Axes>"
      ]
     },
     "metadata": {},
     "output_type": "display_data"
    }
   ],
   "source": [
    "monday_start_time = df.Start_Time[df.Start_Time.dt.dayofweek == 0]\n",
    "sns.distplot(monday_start_time.dt.hour, bins = 24, kde = False, norm_hist = True)"
   ]
  },
  {
   "cell_type": "markdown",
   "id": "68521f69",
   "metadata": {},
   "source": [
    "### 3. Start Latitude & Longitude"
   ]
  },
  {
   "cell_type": "code",
   "execution_count": 46,
   "id": "1d854eda",
   "metadata": {},
   "outputs": [
    {
     "data": {
      "text/plain": [
       "0          40.108910\n",
       "1          39.865420\n",
       "2          39.102660\n",
       "3          41.062130\n",
       "4          39.172393\n",
       "             ...    \n",
       "2845337    34.002480\n",
       "2845338    32.766960\n",
       "2845339    33.775450\n",
       "2845340    33.992460\n",
       "2845341    34.133930\n",
       "Name: Start_Lat, Length: 2845342, dtype: float64"
      ]
     },
     "execution_count": 46,
     "metadata": {},
     "output_type": "execute_result"
    }
   ],
   "source": [
    "df.Start_Lat"
   ]
  },
  {
   "cell_type": "code",
   "execution_count": 48,
   "id": "0d5870da",
   "metadata": {},
   "outputs": [
    {
     "data": {
      "text/plain": [
       "0          -83.092860\n",
       "1          -84.062800\n",
       "2          -84.524680\n",
       "3          -81.537840\n",
       "4          -84.492792\n",
       "              ...    \n",
       "2845337   -117.379360\n",
       "2845338   -117.148060\n",
       "2845339   -117.847790\n",
       "2845340   -118.403020\n",
       "2845341   -117.230920\n",
       "Name: Start_Lng, Length: 2845342, dtype: float64"
      ]
     },
     "execution_count": 48,
     "metadata": {},
     "output_type": "execute_result"
    }
   ],
   "source": [
    "df.Start_Lng"
   ]
  },
  {
   "cell_type": "code",
   "execution_count": 49,
   "id": "78189789",
   "metadata": {},
   "outputs": [
    {
     "data": {
      "text/plain": [
       "<AxesSubplot:xlabel='Start_Lng', ylabel='Start_Lat'>"
      ]
     },
     "execution_count": 49,
     "metadata": {},
     "output_type": "execute_result"
    },
    {
     "data": {
      "image/png": "[encoded data removed]",
      "text/plain": [
       "<Figure size 432x288 with 1 Axes>"
      ]
     },
     "metadata": {},
     "output_type": "display_data"
    }
   ],
   "source": [
    "sns.scatterplot(x = df.Start_Lng, y = df.Start_Lat)"
   ]
  },
  {
   "cell_type": "markdown",
   "id": "6f3ccc48",
   "metadata": {},
   "source": [
    "### Summary and Conclusion\n",
    "1. No data from New York\n",
    "2. The number of accidents per city decreases exponentially\n",
    "3. Less than 5% of cities have more than 1000 yearly accidents\n"
   ]
  },
  {
   "cell_type": "code",
   "execution_count": null,
   "id": "abcf45c5",
   "metadata": {},
   "outputs": [],
   "source": []
  }
 ],
 "metadata": {
  "kernelspec": {
   "display_name": "Python 3 (ipykernel)",
   "language": "python",
   "name": "python3"
  },
  "language_info": {
   "codemirror_mode": {
    "name": "ipython",
    "version": 3
   },
   "file_extension": ".py",
   "mimetype": "text/x-python",
   "name": "python",
   "nbconvert_exporter": "python",
   "pygments_lexer": "ipython3",
   "version": "3.9.7"
  }
 },
 "nbformat": 4,
 "nbformat_minor": 5
}
